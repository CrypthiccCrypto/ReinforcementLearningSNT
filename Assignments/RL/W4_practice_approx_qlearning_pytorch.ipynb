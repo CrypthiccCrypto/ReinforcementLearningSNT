{
 "cells": [
  {
   "cell_type": "markdown",
   "metadata": {
    "id": "YxUMtllhRrA4"
   },
   "source": [
    "# Approximate q-learning\n",
    "\n",
    "In this notebook you will teach a __PyTorch__ neural network to do Q-learning."
   ]
  },
  {
   "cell_type": "code",
   "execution_count": 1,
   "metadata": {
    "colab": {
     "base_uri": "https://localhost:8080/"
    },
    "id": "G2zA6lw1RrA7",
    "outputId": "157c3583-334a-4074-a9c9-2d7ef5d66a64"
   },
   "outputs": [
    {
     "name": "stdout",
     "output_type": "stream",
     "text": [
      "Starting virtual X frame buffer: Xvfb.\n"
     ]
    }
   ],
   "source": [
    "import sys, os\n",
    "if 'google.colab' in sys.modules and not os.path.exists('.setup_complete'):\n",
    "    !wget -q https://raw.githubusercontent.com/yandexdataschool/Practical_RL/master/setup_colab.sh -O- | bash\n",
    "\n",
    "    !wget -q https://raw.githubusercontent.com/yandexdataschool/Practical_RL/coursera/grading.py -O ../grading.py\n",
    "    !wget -q https://raw.githubusercontent.com/yandexdataschool/Practical_RL/coursera/week4_approx/submit.py\n",
    "\n",
    "    !touch .setup_complete\n",
    "\n",
    "# This code creates a virtual display to draw game images on.\n",
    "# It will have no effect if your machine has a monitor.\n",
    "if type(os.environ.get(\"DISPLAY\")) is not str or len(os.environ.get(\"DISPLAY\")) == 0:\n",
    "    !bash ../xvfb start\n",
    "    os.environ['DISPLAY'] = ':1'"
   ]
  },
  {
   "cell_type": "code",
   "execution_count": 2,
   "metadata": {
    "id": "Au_ojSJ6RrA7"
   },
   "outputs": [],
   "source": [
    "import gym\n",
    "import numpy as np\n",
    "import pandas as pd\n",
    "import matplotlib.pyplot as plt\n",
    "%matplotlib inline"
   ]
  },
  {
   "cell_type": "code",
   "execution_count": 3,
   "metadata": {
    "colab": {
     "base_uri": "https://localhost:8080/",
     "height": 269
    },
    "id": "c3vPiAPlRrA8",
    "outputId": "ffa4a1bd-519b-4f47-94f1-ffaaf805903d"
   },
   "outputs": [
    {
     "data": {
      "image/png": "[encoded data removed]",
      "text/plain": [
       "<Figure size 432x288 with 1 Axes>"
      ]
     },
     "metadata": {
      "needs_background": "light",
      "tags": []
     },
     "output_type": "display_data"
    }
   ],
   "source": [
    "env = gym.make(\"CartPole-v0\").env\n",
    "env.reset()\n",
    "n_actions = env.action_space.n\n",
    "state_dim = env.observation_space.shape\n",
    "\n",
    "plt.imshow(env.render(\"rgb_array\"))\n",
    "env.close()"
   ]
  },
  {
   "cell_type": "markdown",
   "metadata": {
    "id": "HqQVf1qRRrA8"
   },
   "source": [
    "# Approximate Q-learning: building the network\n",
    "\n",
    "To train a neural network policy one must have a neural network policy. Let's build it.\n",
    "\n",
    "\n",
    "Since we're working with a pre-extracted features (cart positions, angles and velocities), we don't need a complicated network yet. In fact, let's build something like this for starters:\n",
    "\n",
    "![img](https://raw.githubusercontent.com/yandexdataschool/Practical_RL/master/yet_another_week/_resource/qlearning_scheme.png)\n",
    "\n",
    "For your first run, please only use linear layers (`nn.Linear`) and activations. Stuff like batch normalization or dropout may ruin everything if used haphazardly. \n",
    "\n",
    "Also please avoid using nonlinearities like sigmoid & tanh: since agent's observations are not normalized, sigmoids might be saturated at initialization. Instead, use non-saturating nonlinearities like ReLU.\n",
    "\n",
    "Ideally you should start small with maybe 1-2 hidden layers with < 200 neurons and then increase network size if agent doesn't beat the target score."
   ]
  },
  {
   "cell_type": "code",
   "execution_count": 4,
   "metadata": {
    "id": "---fQLZBRrA9"
   },
   "outputs": [],
   "source": [
    "import torch\n",
    "import torch.nn as nn\n",
    "import torch.nn.functional as F\n",
    "import random"
   ]
  },
  {
   "cell_type": "code",
   "execution_count": 6,
   "metadata": {
    "id": "W7PcWvUgRrA9"
   },
   "outputs": [],
   "source": [
    "network = nn.Sequential()\n",
    "\n",
    "network.add_module('layer1', nn.Linear(state_dim[0], 169))\n",
    "network.add_module('layer2', nn.ReLU())\n",
    "network.add_module('layer3', nn.Linear(169, n_actions))\n",
    "#network.add_module('layer4', nn.ReLU())\n",
    "\n",
    "#<YOUR CODE: stack layers!!!1>\n",
    "\n",
    "# hint: use state_dim[0] as input size"
   ]
  },
  {
   "cell_type": "code",
   "execution_count": 7,
   "metadata": {
    "id": "VtIMeucURrA9"
   },
   "outputs": [],
   "source": [
    "def get_action(state, epsilon=0):\n",
    "    \"\"\"\n",
    "    sample actions with epsilon-greedy policy\n",
    "    recap: with p = epsilon pick random action, else pick action with highest Q(s,a)\n",
    "    \"\"\"\n",
    "    state = torch.tensor(state[None], dtype=torch.float32)\n",
    "    q_values = network(state).detach().numpy()\n",
    "\n",
    "    p = random.uniform(0, 1)\n",
    "    if(p > epsilon) :\n",
    "      return int(np.argmax(q_values))\n",
    "    else :\n",
    "      return int(np.random.randint(0, n_actions))"
   ]
  },
  {
   "cell_type": "code",
   "execution_count": 9,
   "metadata": {
    "colab": {
     "base_uri": "https://localhost:8080/"
    },
    "id": "xxYygUOERrA-",
    "outputId": "e82dfae1-d298-4b5a-f87a-195fe71ff10a"
   },
   "outputs": [
    {
     "name": "stdout",
     "output_type": "stream",
     "text": [
      "e=0.0 tests passed\n",
      "e=0.1 tests passed\n",
      "e=0.5 tests passed\n",
      "e=1.0 tests passed\n"
     ]
    }
   ],
   "source": [
    "s = env.reset()\n",
    "assert tuple(network(torch.tensor([s]*3, dtype=torch.float32)).size()) == (\n",
    "    3, n_actions), \"please make sure your model maps state s -> [Q(s,a0), ..., Q(s, a_last)]\"\n",
    "assert isinstance(list(network.modules(\n",
    "))[-1], nn.Linear), \"please make sure you predict q-values without nonlinearity (ignore if you know what you're doing)\"\n",
    "assert isinstance(get_action(\n",
    "    s), int), \"get_action(s) must return int, not %s. try int(action)\" % (type(get_action(s)))\n",
    "\n",
    "# test epsilon-greedy exploration\n",
    "for eps in [0., 0.1, 0.5, 1.0]:\n",
    "    state_frequencies = np.bincount(\n",
    "        [get_action(s, epsilon=eps) for i in range(10000)], minlength=n_actions)\n",
    "    best_action = state_frequencies.argmax()\n",
    "    assert abs(state_frequencies[best_action] -\n",
    "               10000 * (1 - eps + eps / n_actions)) < 200\n",
    "    for other_action in range(n_actions):\n",
    "        if other_action != best_action:\n",
    "            assert abs(state_frequencies[other_action] -\n",
    "                       10000 * (eps / n_actions)) < 200\n",
    "    print('e=%.1f tests passed' % eps)"
   ]
  },
  {
   "cell_type": "markdown",
   "metadata": {
    "id": "kgwdmpXvRrA-"
   },
   "source": [
    "### Q-learning via gradient descent\n",
    "\n",
    "We shall now train our agent's Q-function by minimizing the TD loss:\n",
    "$$ L = { 1 \\over N} \\sum_i (Q_{\\theta}(s,a) - [r(s,a) + \\gamma \\cdot max_{a'} Q_{-}(s', a')]) ^2 $$\n",
    "\n",
    "\n",
    "Where\n",
    "* $s, a, r, s'$ are current state, action, reward and next state respectively\n",
    "* $\\gamma$ is a discount factor defined two cells above.\n",
    "\n",
    "The tricky part is with  $Q_{-}(s',a')$. From an engineering standpoint, it's the same as $Q_{\\theta}$ - the output of your neural network policy. However, when doing gradient descent, __we won't propagate gradients through it__ to make training more stable (see lectures).\n",
    "\n",
    "To do so, we shall use `x.detach()` function which basically says \"consider this thing constant when doingbackprop\"."
   ]
  },
  {
   "cell_type": "code",
   "execution_count": 10,
   "metadata": {
    "id": "FeVEbF6lRrA-"
   },
   "outputs": [],
   "source": [
    "def compute_td_loss(states, actions, rewards, next_states, is_done, gamma=0.99, check_shapes=False):\n",
    "    \"\"\" Compute td loss using torch operations only. Use the formula above. \"\"\"\n",
    "    states = torch.tensor(\n",
    "        states, dtype=torch.float32)    # shape: [batch_size, state_size]\n",
    "    actions = torch.tensor(actions, dtype=torch.long)    # shape: [batch_size]\n",
    "    rewards = torch.tensor(rewards, dtype=torch.float32)  # shape: [batch_size]\n",
    "    # shape: [batch_size, state_size]\n",
    "    next_states = torch.tensor(next_states, dtype=torch.float32)\n",
    "    is_done = torch.tensor(is_done, dtype=torch.uint8)  # shape: [batch_size]\n",
    "\n",
    "    # get q-values for all actions in current states\n",
    "    predicted_qvalues = network(states)\n",
    "    # select q-values for chosen actions\n",
    "    predicted_qvalues_for_actions = predicted_qvalues[\n",
    "      range(states.shape[0]), actions\n",
    "    ]\n",
    "\n",
    "    # compute q-values for all actions in next states\n",
    "    predicted_next_qvalues = network(next_states)\n",
    "\n",
    "    # compute V*(next_states) using predicted next q-values\n",
    "    #print(predicted_next_qvalues)\n",
    "    next_state_values, indices = torch.max(predicted_next_qvalues, axis = -1)\n",
    "    assert next_state_values.dtype == torch.float32\n",
    "    \n",
    "    # compute \"target q-values\" for loss - it's what's inside square parentheses in the above formula.\n",
    "    target_qvalues_for_actions = rewards + gamma*next_state_values\n",
    "\n",
    "    # at the last state we shall use simplified formula: Q(s,a) = r(s,a) since s' doesn't exist\n",
    "    target_qvalues_for_actions = torch.where(\n",
    "        is_done, rewards, target_qvalues_for_actions)\n",
    "\n",
    "    # mean squared error loss to minimize\n",
    "    loss = torch.mean((predicted_qvalues_for_actions -\n",
    "                       target_qvalues_for_actions.detach()) ** 2)\n",
    "\n",
    "    if check_shapes:\n",
    "        assert predicted_next_qvalues.data.dim(\n",
    "        ) == 2, \"make sure you predicted q-values for all actions in next state\"\n",
    "        assert next_state_values.data.dim(\n",
    "        ) == 1, \"make sure you computed V(s') as maximum over just the actions axis and not all axes\"\n",
    "        assert target_qvalues_for_actions.data.dim(\n",
    "        ) == 1, \"there's something wrong with target q-values, they must be a vector\"\n",
    "\n",
    "    return loss"
   ]
  },
  {
   "cell_type": "code",
   "execution_count": 11,
   "metadata": {
    "id": "fjNeYG2WRrA_"
   },
   "outputs": [],
   "source": [
    "# sanity checks\n",
    "s = env.reset()\n",
    "a = env.action_space.sample()\n",
    "next_s, r, done, _ = env.step(a)\n",
    "loss = compute_td_loss([s], [a], [r], [next_s], [done], check_shapes=True)\n",
    "loss.backward()\n",
    "\n",
    "assert len(loss.size()) == 0, \"you must return scalar loss - mean over batch\"\n",
    "assert np.any(next(network.parameters()).grad.detach().numpy() !=\n",
    "              0), \"loss must be differentiable w.r.t. network weights\""
   ]
  },
  {
   "cell_type": "markdown",
   "metadata": {
    "id": "Yh2DCMIwRrBA"
   },
   "source": [
    "### Playing the game"
   ]
  },
  {
   "cell_type": "code",
   "execution_count": 12,
   "metadata": {
    "id": "s8dFmdPvRrBA"
   },
   "outputs": [],
   "source": [
    "opt = torch.optim.Adam(network.parameters(), lr=1e-4)"
   ]
  },
  {
   "cell_type": "code",
   "execution_count": 13,
   "metadata": {
    "id": "bUHPcWD_RrBA"
   },
   "outputs": [],
   "source": [
    "def generate_session(env, t_max=1000, epsilon=0, train=False):\n",
    "    \"\"\"play env with approximate q-learning agent and train it at the same time\"\"\"\n",
    "    total_reward = 0\n",
    "    s = env.reset()\n",
    "\n",
    "    for t in range(t_max):\n",
    "        a = get_action(s, epsilon=epsilon)\n",
    "        next_s, r, done, _ = env.step(a)\n",
    "\n",
    "        if train:\n",
    "            opt.zero_grad()\n",
    "            compute_td_loss([s], [a], [r], [next_s], [done]).backward()\n",
    "            opt.step()\n",
    "\n",
    "        total_reward += r\n",
    "        s = next_s\n",
    "        if done:\n",
    "            break\n",
    "\n",
    "    return total_reward"
   ]
  },
  {
   "cell_type": "code",
   "execution_count": 14,
   "metadata": {
    "id": "xkrR5s7URrBA"
   },
   "outputs": [],
   "source": [
    "epsilon = 0.5"
   ]
  },
  {
   "cell_type": "code",
   "execution_count": 15,
   "metadata": {
    "colab": {
     "base_uri": "https://localhost:8080/"
    },
    "id": "D59Im8WZRrBA",
    "outputId": "e9565cc5-9b89-42c8-c7ba-b8372583df2b"
   },
   "outputs": [
    {
     "name": "stdout",
     "output_type": "stream",
     "text": [
      "epoch #0\tmean reward = 14.210\tepsilon = 0.500\n",
      "epoch #1\tmean reward = 13.460\tepsilon = 0.495\n",
      "epoch #2\tmean reward = 14.260\tepsilon = 0.490\n",
      "epoch #3\tmean reward = 12.820\tepsilon = 0.485\n",
      "epoch #4\tmean reward = 13.790\tepsilon = 0.480\n",
      "epoch #5\tmean reward = 14.230\tepsilon = 0.475\n",
      "epoch #6\tmean reward = 17.410\tepsilon = 0.471\n",
      "epoch #7\tmean reward = 15.430\tepsilon = 0.466\n",
      "epoch #8\tmean reward = 13.790\tepsilon = 0.461\n",
      "epoch #9\tmean reward = 13.490\tepsilon = 0.457\n",
      "epoch #10\tmean reward = 14.130\tepsilon = 0.452\n",
      "epoch #11\tmean reward = 12.500\tepsilon = 0.448\n",
      "epoch #12\tmean reward = 13.040\tepsilon = 0.443\n",
      "epoch #13\tmean reward = 14.410\tepsilon = 0.439\n",
      "epoch #14\tmean reward = 12.370\tepsilon = 0.434\n",
      "epoch #15\tmean reward = 12.920\tepsilon = 0.430\n",
      "epoch #16\tmean reward = 16.360\tepsilon = 0.426\n",
      "epoch #17\tmean reward = 13.060\tepsilon = 0.421\n",
      "epoch #18\tmean reward = 17.110\tepsilon = 0.417\n",
      "epoch #19\tmean reward = 18.340\tepsilon = 0.413\n",
      "epoch #20\tmean reward = 19.110\tepsilon = 0.409\n",
      "epoch #21\tmean reward = 23.370\tepsilon = 0.405\n",
      "epoch #22\tmean reward = 22.460\tepsilon = 0.401\n",
      "epoch #23\tmean reward = 23.890\tepsilon = 0.397\n",
      "epoch #24\tmean reward = 24.670\tepsilon = 0.393\n",
      "epoch #25\tmean reward = 27.310\tepsilon = 0.389\n",
      "epoch #26\tmean reward = 32.780\tepsilon = 0.385\n",
      "epoch #27\tmean reward = 28.700\tepsilon = 0.381\n",
      "epoch #28\tmean reward = 29.580\tepsilon = 0.377\n",
      "epoch #29\tmean reward = 32.750\tepsilon = 0.374\n",
      "epoch #30\tmean reward = 33.800\tepsilon = 0.370\n",
      "epoch #31\tmean reward = 35.720\tepsilon = 0.366\n",
      "epoch #32\tmean reward = 39.810\tepsilon = 0.362\n",
      "epoch #33\tmean reward = 38.850\tepsilon = 0.359\n",
      "epoch #34\tmean reward = 39.860\tepsilon = 0.355\n",
      "epoch #35\tmean reward = 40.040\tepsilon = 0.352\n",
      "epoch #36\tmean reward = 48.180\tepsilon = 0.348\n",
      "epoch #37\tmean reward = 53.160\tepsilon = 0.345\n",
      "epoch #38\tmean reward = 72.530\tepsilon = 0.341\n",
      "epoch #39\tmean reward = 85.890\tepsilon = 0.338\n",
      "epoch #40\tmean reward = 55.640\tepsilon = 0.334\n",
      "epoch #41\tmean reward = 51.650\tepsilon = 0.331\n",
      "epoch #42\tmean reward = 25.210\tepsilon = 0.328\n",
      "epoch #43\tmean reward = 63.720\tepsilon = 0.325\n",
      "epoch #44\tmean reward = 84.270\tepsilon = 0.321\n",
      "epoch #45\tmean reward = 99.820\tepsilon = 0.318\n",
      "epoch #46\tmean reward = 83.570\tepsilon = 0.315\n",
      "epoch #47\tmean reward = 51.440\tepsilon = 0.312\n",
      "epoch #48\tmean reward = 130.930\tepsilon = 0.309\n",
      "epoch #49\tmean reward = 148.960\tepsilon = 0.306\n",
      "epoch #50\tmean reward = 136.660\tepsilon = 0.303\n",
      "epoch #51\tmean reward = 126.640\tepsilon = 0.299\n",
      "epoch #52\tmean reward = 131.170\tepsilon = 0.296\n",
      "epoch #53\tmean reward = 167.960\tepsilon = 0.294\n",
      "epoch #54\tmean reward = 160.320\tepsilon = 0.291\n",
      "epoch #55\tmean reward = 135.730\tepsilon = 0.288\n",
      "epoch #56\tmean reward = 174.920\tepsilon = 0.285\n",
      "epoch #57\tmean reward = 94.170\tepsilon = 0.282\n",
      "epoch #58\tmean reward = 39.900\tepsilon = 0.279\n",
      "epoch #59\tmean reward = 16.830\tepsilon = 0.276\n",
      "epoch #60\tmean reward = 87.380\tepsilon = 0.274\n",
      "epoch #61\tmean reward = 177.670\tepsilon = 0.271\n",
      "epoch #62\tmean reward = 94.300\tepsilon = 0.268\n",
      "epoch #63\tmean reward = 100.780\tepsilon = 0.265\n",
      "epoch #64\tmean reward = 160.900\tepsilon = 0.263\n",
      "epoch #65\tmean reward = 188.180\tepsilon = 0.260\n",
      "epoch #66\tmean reward = 201.850\tepsilon = 0.258\n",
      "epoch #67\tmean reward = 133.700\tepsilon = 0.255\n",
      "epoch #68\tmean reward = 26.550\tepsilon = 0.252\n",
      "epoch #69\tmean reward = 11.310\tepsilon = 0.250\n",
      "epoch #70\tmean reward = 31.570\tepsilon = 0.247\n",
      "epoch #71\tmean reward = 110.690\tepsilon = 0.245\n",
      "epoch #72\tmean reward = 151.620\tepsilon = 0.242\n",
      "epoch #73\tmean reward = 197.070\tepsilon = 0.240\n",
      "epoch #74\tmean reward = 77.920\tepsilon = 0.238\n",
      "epoch #75\tmean reward = 100.850\tepsilon = 0.235\n",
      "epoch #76\tmean reward = 172.180\tepsilon = 0.233\n",
      "epoch #77\tmean reward = 24.890\tepsilon = 0.231\n",
      "epoch #78\tmean reward = 152.680\tepsilon = 0.228\n",
      "epoch #79\tmean reward = 188.170\tepsilon = 0.226\n",
      "epoch #80\tmean reward = 203.720\tepsilon = 0.224\n",
      "epoch #81\tmean reward = 12.160\tepsilon = 0.222\n",
      "epoch #82\tmean reward = 26.510\tepsilon = 0.219\n",
      "epoch #83\tmean reward = 61.170\tepsilon = 0.217\n",
      "epoch #84\tmean reward = 241.430\tepsilon = 0.215\n",
      "epoch #85\tmean reward = 144.910\tepsilon = 0.213\n",
      "epoch #86\tmean reward = 184.400\tepsilon = 0.211\n",
      "epoch #87\tmean reward = 107.610\tepsilon = 0.209\n",
      "epoch #88\tmean reward = 238.520\tepsilon = 0.206\n",
      "epoch #89\tmean reward = 127.670\tepsilon = 0.204\n",
      "epoch #90\tmean reward = 132.400\tepsilon = 0.202\n",
      "epoch #91\tmean reward = 91.690\tepsilon = 0.200\n",
      "epoch #92\tmean reward = 70.020\tepsilon = 0.198\n",
      "epoch #93\tmean reward = 137.270\tepsilon = 0.196\n",
      "epoch #94\tmean reward = 29.270\tepsilon = 0.194\n",
      "epoch #95\tmean reward = 35.130\tepsilon = 0.192\n",
      "epoch #96\tmean reward = 221.240\tepsilon = 0.191\n",
      "epoch #97\tmean reward = 77.220\tepsilon = 0.189\n",
      "epoch #98\tmean reward = 110.080\tepsilon = 0.187\n",
      "epoch #99\tmean reward = 125.870\tepsilon = 0.185\n",
      "epoch #100\tmean reward = 132.130\tepsilon = 0.183\n",
      "epoch #101\tmean reward = 147.720\tepsilon = 0.181\n",
      "epoch #102\tmean reward = 158.380\tepsilon = 0.179\n",
      "epoch #103\tmean reward = 208.040\tepsilon = 0.178\n",
      "epoch #104\tmean reward = 240.720\tepsilon = 0.176\n",
      "epoch #105\tmean reward = 343.440\tepsilon = 0.174\n",
      "You Win!\n"
     ]
    }
   ],
   "source": [
    "for i in range(1000):\n",
    "    session_rewards = [generate_session(env, epsilon=epsilon, train=True) for _ in range(100)]\n",
    "    print(\"epoch #{}\\tmean reward = {:.3f}\\tepsilon = {:.3f}\".format(i, np.mean(session_rewards), epsilon))\n",
    "\n",
    "    epsilon *= 0.99\n",
    "    assert epsilon >= 1e-4, \"Make sure epsilon is always nonzero during training\"\n",
    "\n",
    "    if np.mean(session_rewards) > 300:\n",
    "        print(\"You Win!\")\n",
    "        break"
   ]
  },
  {
   "cell_type": "markdown",
   "metadata": {
    "id": "MxEkGSngRrBB"
   },
   "source": [
    "### How to interpret results\n",
    "\n",
    "\n",
    "Welcome to the f.. world of deep f...n reinforcement learning. Don't expect agent's reward to smoothly go up. Hope for it to go increase eventually. If it deems you worthy.\n",
    "\n",
    "Seriously though,\n",
    "* __ mean reward__ is the average reward per game. For a correct implementation it may stay low for some 10 epochs, then start growing while oscilating insanely and converges by ~50-100 steps depending on the network architecture. \n",
    "* If it never reaches target score by the end of for loop, try increasing the number of hidden neurons or look at the epsilon.\n",
    "* __ epsilon__ - agent's willingness to explore. If you see that agent's already at < 0.01 epsilon before it's is at least 200, just reset it back to 0.1 - 0.5."
   ]
  },
  {
   "cell_type": "markdown",
   "metadata": {
    "id": "vNXdbNdGRrBB"
   },
   "source": [
    "### Record videos\n",
    "\n",
    "As usual, we now use `gym.wrappers.Monitor` to record a video of our agent playing the game. Unlike our previous attempts with state binarization, this time we expect our agent to act ~~(or fail)~~ more smoothly since there's no more binarization error at play.\n",
    "\n",
    "As you already did with tabular q-learning, we set epsilon=0 for final evaluation to prevent agent from exploring himself to death."
   ]
  },
  {
   "cell_type": "code",
   "execution_count": 16,
   "metadata": {
    "id": "-l9Qp42rRrBB"
   },
   "outputs": [],
   "source": [
    "# Record sessions\n",
    "\n",
    "import gym.wrappers\n",
    "\n",
    "with gym.wrappers.Monitor(gym.make(\"CartPole-v0\"), directory=\"videos\", force=True) as env_monitor:\n",
    "    sessions = [generate_session(env_monitor, epsilon=0, train=False) for _ in range(100)]"
   ]
  },
  {
   "cell_type": "code",
   "execution_count": 17,
   "metadata": {
    "colab": {
     "base_uri": "https://localhost:8080/",
     "height": 501,
     "resources": {
      "http://localhost:8080/videos/openaigym.video.0.2020.video000064.mp4": {
       "data": "CjwhRE9DVFlQRSBodG1sPgo8aHRtbCBsYW5nPWVuPgogIDxtZXRhIGNoYXJzZXQ9dXRmLTg+CiAgPG1ldGEgbmFtZT12aWV3cG9ydCBjb250ZW50PSJpbml0aWFsLXNjYWxlPTEsIG1pbmltdW0tc2NhbGU9MSwgd2lkdGg9ZGV2aWNlLXdpZHRoIj4KICA8dGl0bGU+RXJyb3IgNDA0IChOb3QgRm91bmQpISExPC90aXRsZT4KICA8c3R5bGU+CiAgICAqe21hcmdpbjowO3BhZGRpbmc6MH1odG1sLGNvZGV7Zm9udDoxNXB4LzIycHggYXJpYWwsc2Fucy1zZXJpZn1odG1se2JhY2tncm91bmQ6I2ZmZjtjb2xvcjojMjIyO3BhZGRpbmc6MTVweH1ib2R5e21hcmdpbjo3JSBhdXRvIDA7bWF4LXdpZHRoOjM5MHB4O21pbi1oZWlnaHQ6MTgwcHg7cGFkZGluZzozMHB4IDAgMTVweH0qID4gYm9keXtiYWNrZ3JvdW5kOnVybCgvL3d3dy5nb29nbGUuY29tL2ltYWdlcy9lcnJvcnMvcm9ib3QucG5nKSAxMDAlIDVweCBuby1yZXBlYXQ7cGFkZGluZy1yaWdodDoyMDVweH1we21hcmdpbjoxMXB4IDAgMjJweDtvdmVyZmxvdzpoaWRkZW59aW5ze2NvbG9yOiM3Nzc7dGV4dC1kZWNvcmF0aW9uOm5vbmV9YSBpbWd7Ym9yZGVyOjB9QG1lZGlhIHNjcmVlbiBhbmQgKG1heC13aWR0aDo3NzJweCl7Ym9keXtiYWNrZ3JvdW5kOm5vbmU7bWFyZ2luLXRvcDowO21heC13aWR0aDpub25lO3BhZGRpbmctcmlnaHQ6MH19I2xvZ297YmFja2dyb3VuZDp1cmwoLy93d3cuZ29vZ2xlLmNvbS9pbWFnZXMvbG9nb3MvZXJyb3JwYWdlL2Vycm9yX2xvZ28tMTUweDU0LnBuZykgbm8tcmVwZWF0O21hcmdpbi1sZWZ0Oi01cHh9QG1lZGlhIG9ubHkgc2NyZWVuIGFuZCAobWluLXJlc29sdXRpb246MTkyZHBpKXsjbG9nb3tiYWNrZ3JvdW5kOnVybCgvL3d3dy5nb29nbGUuY29tL2ltYWdlcy9sb2dvcy9lcnJvcnBhZ2UvZXJyb3JfbG9nby0xNTB4NTQtMngucG5nKSBuby1yZXBlYXQgMCUgMCUvMTAwJSAxMDAlOy1tb3otYm9yZGVyLWltYWdlOnVybCgvL3d3dy5nb29nbGUuY29tL2ltYWdlcy9sb2dvcy9lcnJvcnBhZ2UvZXJyb3JfbG9nby0xNTB4NTQtMngucG5nKSAwfX1AbWVkaWEgb25seSBzY3JlZW4gYW5kICgtd2Via2l0LW1pbi1kZXZpY2UtcGl4ZWwtcmF0aW86Mil7I2xvZ297YmFja2dyb3VuZDp1cmwoLy93d3cuZ29vZ2xlLmNvbS9pbWFnZXMvbG9nb3MvZXJyb3JwYWdlL2Vycm9yX2xvZ28tMTUweDU0LTJ4LnBuZykgbm8tcmVwZWF0Oy13ZWJraXQtYmFja2dyb3VuZC1zaXplOjEwMCUgMTAwJX19I2xvZ297ZGlzcGxheTppbmxpbmUtYmxvY2s7aGVpZ2h0OjU0cHg7d2lkdGg6MTUwcHh9CiAgPC9zdHlsZT4KICA8YSBocmVmPS8vd3d3Lmdvb2dsZS5jb20vPjxzcGFuIGlkPWxvZ28gYXJpYS1sYWJlbD1Hb29nbGU+PC9zcGFuPjwvYT4KICA8cD48Yj40MDQuPC9iPiA8aW5zPlRoYXTigJlzIGFuIGVycm9yLjwvaW5zPgogIDxwPiAgPGlucz5UaGF04oCZcyBhbGwgd2Uga25vdy48L2lucz4K",
       "headers": [
        [
         "content-length",
         "1449"
        ],
        [
         "content-type",
         "text/html; charset=utf-8"
        ]
       ],
       "ok": false,
       "status": 404,
       "status_text": ""
      }
     }
    },
    "id": "OFKf_B_7RrBB",
    "outputId": "f4c1ed70-52ca-4d75-babb-68673b99f80a"
   },
   "outputs": [
    {
     "data": {
      "text/html": [
       "\n",
       "<video width=\"640\" height=\"480\" controls>\n",
       "  <source src=\"videos/openaigym.video.0.2020.video000064.mp4\" type=\"video/mp4\">\n",
       "</video>\n"
      ],
      "text/plain": [
       "<IPython.core.display.HTML object>"
      ]
     },
     "execution_count": 17,
     "metadata": {
      "tags": []
     },
     "output_type": "execute_result"
    }
   ],
   "source": [
    "# Show video. This may not work in some setups. If it doesn't\n",
    "# work for you, you can download the videos and view them locally.\n",
    "\n",
    "from pathlib import Path\n",
    "from IPython.display import HTML\n",
    "\n",
    "video_names = sorted([s for s in Path('videos').iterdir() if s.suffix == '.mp4'])\n",
    "\n",
    "HTML(\"\"\"\n",
    "<video width=\"640\" height=\"480\" controls>\n",
    "  <source src=\"{}\" type=\"video/mp4\">\n",
    "</video>\n",
    "\"\"\".format(video_names[-1]))  # You can also try other indices"
   ]
  },
  {
   "cell_type": "markdown",
   "metadata": {
    "id": "Gvscmos3RrBC"
   },
   "source": [
    "## Submit to Coursera"
   ]
  },
  {
   "cell_type": "code",
   "execution_count": 18,
   "metadata": {
    "colab": {
     "base_uri": "https://localhost:8080/"
    },
    "id": "S-sSkeEIRrBC",
    "outputId": "f3558342-81a0-4d76-91e3-02cbf60d97b0"
   },
   "outputs": [
    {
     "name": "stdout",
     "output_type": "stream",
     "text": [
      "Your average reward is 224.68 over 100 episodes\n",
      "Submitted to Coursera platform. See results on assignment page!\n"
     ]
    }
   ],
   "source": [
    "from submit import submit_cartpole\n",
    "submit_cartpole(generate_session, 'sohams20@iitk.ac.in', 'kwHyedGD9XoVK0hi')"
   ]
  },
  {
   "cell_type": "code",
   "execution_count": null,
   "metadata": {
    "id": "73SwNjXAmBoL"
   },
   "outputs": [],
   "source": []
  }
 ],
 "metadata": {
  "colab": {
   "name": "practice_approx_qlearning_pytorch.ipynb",
   "provenance": []
  },
  "kernelspec": {
   "display_name": "Python 3",
   "language": "python",
   "name": "python3"
  },
  "language_info": {
   "codemirror_mode": {
    "name": "ipython",
    "version": 3
   },
   "file_extension": ".py",
   "mimetype": "text/x-python",
   "name": "python",
   "nbconvert_exporter": "python",
   "pygments_lexer": "ipython3",
   "version": "3.9.1"
  }
 },
 "nbformat": 4,
 "nbformat_minor": 1
}
